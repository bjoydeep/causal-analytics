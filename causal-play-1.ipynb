{
 "cells": [
  {
   "cell_type": "code",
   "execution_count": 1,
   "id": "3b2ced36",
   "metadata": {
    "slideshow": {
     "slide_type": "skip"
    }
   },
   "outputs": [],
   "source": [
    "#!pip install install dowhy\n",
    "#!pip install RISE"
   ]
  },
  {
   "cell_type": "code",
   "execution_count": 2,
   "id": "e407774c",
   "metadata": {
    "slideshow": {
     "slide_type": "slide"
    }
   },
   "outputs": [],
   "source": [
    "import numpy as np\n",
    "import matplotlib.pyplot as plt\n",
    "\n",
    "import statsmodels.api as sm\n",
    "import statsmodels.formula.api as smf\n",
    "\n",
    "from dowhy import CausalModel\n",
    "import dowhy.datasets\n",
    "from IPython.display import Image, display\n",
    "import warnings\n",
    "warnings.filterwarnings('ignore')"
   ]
  },
  {
   "cell_type": "code",
   "execution_count": 3,
   "id": "94422f8a",
   "metadata": {
    "slideshow": {
     "slide_type": "slide"
    }
   },
   "outputs": [],
   "source": [
    "data = dowhy.datasets.linear_dataset(beta=10,\n",
    "        num_common_causes=5,\n",
    "        num_instruments = 2,\n",
    "        num_effect_modifiers=1,\n",
    "        num_samples=5000,\n",
    "        treatment_is_binary=True,\n",
    "        stddev_treatment_noise=10,\n",
    "        num_discrete_common_causes=1)\n",
    "df = data[\"df\"]"
   ]
  },
  {
   "cell_type": "code",
   "execution_count": 4,
   "id": "0a9640ec",
   "metadata": {
    "slideshow": {
     "slide_type": "subslide"
    }
   },
   "outputs": [
    {
     "name": "stdout",
     "output_type": "stream",
     "text": [
      "treatment_name -> ['v0']\n",
      "outcome_name -> y\n",
      "common_causes_names -> ['W0', 'W1', 'W2', 'W3', 'W4']\n",
      "instrument_names -> ['Z0', 'Z1']\n",
      "effect_modifier_names -> ['X0']\n",
      "frontdoor_variables_names -> []\n",
      "dot_graph -> digraph {v0->y;W0-> v0; W1-> v0; W2-> v0; W3-> v0; W4-> v0;Z0-> v0; Z1-> v0;W0-> y; W1-> y; W2-> y; W3-> y; W4-> y;X0-> y;}\n",
      "gml_graph -> graph[directed 1node[ id \"y\" label \"y\"]node[ id \"W0\" label \"W0\"] node[ id \"W1\" label \"W1\"] node[ id \"W2\" label \"W2\"] node[ id \"W3\" label \"W3\"] node[ id \"W4\" label \"W4\"]node[ id \"Z0\" label \"Z0\"] node[ id \"Z1\" label \"Z1\"]node[ id \"v0\" label \"v0\"]edge[source \"v0\" target \"y\"]edge[ source \"W0\" target \"v0\"] edge[ source \"W1\" target \"v0\"] edge[ source \"W2\" target \"v0\"] edge[ source \"W3\" target \"v0\"] edge[ source \"W4\" target \"v0\"]edge[ source \"Z0\" target \"v0\"] edge[ source \"Z1\" target \"v0\"]edge[ source \"W0\" target \"y\"] edge[ source \"W1\" target \"y\"] edge[ source \"W2\" target \"y\"] edge[ source \"W3\" target \"y\"] edge[ source \"W4\" target \"y\"]node[ id \"X0\" label \"X0\"] edge[ source \"X0\" target \"y\"]]\n",
      "ate -> 10.529062484393082\n"
     ]
    }
   ],
   "source": [
    "for key in data:\n",
    "    if key != 'df':\n",
    "     print(key, \"->\", data[key])"
   ]
  },
  {
   "cell_type": "code",
   "execution_count": 5,
   "id": "0ddac39f",
   "metadata": {
    "slideshow": {
     "slide_type": "slide"
    }
   },
   "outputs": [],
   "source": [
    "# Without graph\n",
    "model= CausalModel(\n",
    "        data=df,\n",
    "        treatment=data[\"treatment_name\"],\n",
    "        outcome=data[\"outcome_name\"],\n",
    "        common_causes=data[\"common_causes_names\"],\n",
    "        effect_modifiers=data[\"effect_modifier_names\"],\n",
    "        instruments=data[\"instrument_names\"])\n"
   ]
  },
  {
   "cell_type": "code",
   "execution_count": 6,
   "id": "aa942c3b",
   "metadata": {
    "slideshow": {
     "slide_type": "subslide"
    }
   },
   "outputs": [
    {
     "data": {
      "text/plain": [
       "\"Model to find the causal effect of treatment ['v0'] on outcome ['y']\""
      ]
     },
     "execution_count": 6,
     "metadata": {},
     "output_type": "execute_result"
    }
   ],
   "source": [
    "model.summary()"
   ]
  },
  {
   "cell_type": "code",
   "execution_count": 7,
   "id": "1e2bb55f",
   "metadata": {},
   "outputs": [
    {
     "name": "stdout",
     "output_type": "stream",
     "text": [
      "['W1', 'W0', 'W3', 'W4', 'W2']\n",
      "['X0']\n",
      "['Z1', 'Z0']\n"
     ]
    }
   ],
   "source": [
    "print(model.get_common_causes())\n",
    "print(model.get_effect_modifiers())\n",
    "print(model.get_instruments())\n"
   ]
  },
  {
   "cell_type": "code",
   "execution_count": 8,
   "id": "3b0d8cdc",
   "metadata": {},
   "outputs": [
    {
     "data": {
      "text/html": [
       "<div>\n",
       "<style scoped>\n",
       "    .dataframe tbody tr th:only-of-type {\n",
       "        vertical-align: middle;\n",
       "    }\n",
       "\n",
       "    .dataframe tbody tr th {\n",
       "        vertical-align: top;\n",
       "    }\n",
       "\n",
       "    .dataframe thead th {\n",
       "        text-align: right;\n",
       "    }\n",
       "</style>\n",
       "<table border=\"1\" class=\"dataframe\">\n",
       "  <thead>\n",
       "    <tr style=\"text-align: right;\">\n",
       "      <th></th>\n",
       "      <th>X0</th>\n",
       "      <th>Z0</th>\n",
       "      <th>Z1</th>\n",
       "      <th>W0</th>\n",
       "      <th>W1</th>\n",
       "      <th>W2</th>\n",
       "      <th>W3</th>\n",
       "      <th>W4</th>\n",
       "      <th>v0</th>\n",
       "      <th>y</th>\n",
       "    </tr>\n",
       "  </thead>\n",
       "  <tbody>\n",
       "    <tr>\n",
       "      <th>0</th>\n",
       "      <td>-0.519530</td>\n",
       "      <td>0.0</td>\n",
       "      <td>0.680476</td>\n",
       "      <td>-0.282105</td>\n",
       "      <td>-0.362194</td>\n",
       "      <td>0.140558</td>\n",
       "      <td>1.668053</td>\n",
       "      <td>0</td>\n",
       "      <td>True</td>\n",
       "      <td>11.127637</td>\n",
       "    </tr>\n",
       "    <tr>\n",
       "      <th>1</th>\n",
       "      <td>2.133431</td>\n",
       "      <td>1.0</td>\n",
       "      <td>0.813440</td>\n",
       "      <td>0.028942</td>\n",
       "      <td>-1.163175</td>\n",
       "      <td>2.036444</td>\n",
       "      <td>-1.543393</td>\n",
       "      <td>2</td>\n",
       "      <td>True</td>\n",
       "      <td>13.112598</td>\n",
       "    </tr>\n",
       "    <tr>\n",
       "      <th>2</th>\n",
       "      <td>0.062473</td>\n",
       "      <td>1.0</td>\n",
       "      <td>0.638135</td>\n",
       "      <td>-1.095388</td>\n",
       "      <td>-0.028825</td>\n",
       "      <td>-0.600449</td>\n",
       "      <td>-1.542834</td>\n",
       "      <td>2</td>\n",
       "      <td>True</td>\n",
       "      <td>10.023014</td>\n",
       "    </tr>\n",
       "    <tr>\n",
       "      <th>3</th>\n",
       "      <td>0.087544</td>\n",
       "      <td>1.0</td>\n",
       "      <td>0.573439</td>\n",
       "      <td>0.639267</td>\n",
       "      <td>-0.519385</td>\n",
       "      <td>1.745542</td>\n",
       "      <td>-0.164489</td>\n",
       "      <td>0</td>\n",
       "      <td>True</td>\n",
       "      <td>11.669888</td>\n",
       "    </tr>\n",
       "    <tr>\n",
       "      <th>4</th>\n",
       "      <td>-0.501427</td>\n",
       "      <td>1.0</td>\n",
       "      <td>0.045879</td>\n",
       "      <td>-1.154260</td>\n",
       "      <td>1.476705</td>\n",
       "      <td>-0.552128</td>\n",
       "      <td>1.458037</td>\n",
       "      <td>0</td>\n",
       "      <td>False</td>\n",
       "      <td>6.008089</td>\n",
       "    </tr>\n",
       "    <tr>\n",
       "      <th>...</th>\n",
       "      <td>...</td>\n",
       "      <td>...</td>\n",
       "      <td>...</td>\n",
       "      <td>...</td>\n",
       "      <td>...</td>\n",
       "      <td>...</td>\n",
       "      <td>...</td>\n",
       "      <td>...</td>\n",
       "      <td>...</td>\n",
       "      <td>...</td>\n",
       "    </tr>\n",
       "    <tr>\n",
       "      <th>4995</th>\n",
       "      <td>2.085457</td>\n",
       "      <td>1.0</td>\n",
       "      <td>0.974260</td>\n",
       "      <td>-0.022156</td>\n",
       "      <td>0.251530</td>\n",
       "      <td>1.155301</td>\n",
       "      <td>0.590796</td>\n",
       "      <td>1</td>\n",
       "      <td>True</td>\n",
       "      <td>19.846164</td>\n",
       "    </tr>\n",
       "    <tr>\n",
       "      <th>4996</th>\n",
       "      <td>1.096449</td>\n",
       "      <td>1.0</td>\n",
       "      <td>0.610415</td>\n",
       "      <td>-2.200706</td>\n",
       "      <td>1.800359</td>\n",
       "      <td>-0.349106</td>\n",
       "      <td>1.308025</td>\n",
       "      <td>3</td>\n",
       "      <td>True</td>\n",
       "      <td>27.661943</td>\n",
       "    </tr>\n",
       "    <tr>\n",
       "      <th>4997</th>\n",
       "      <td>-0.686926</td>\n",
       "      <td>1.0</td>\n",
       "      <td>0.471778</td>\n",
       "      <td>-0.459015</td>\n",
       "      <td>-2.853532</td>\n",
       "      <td>0.161828</td>\n",
       "      <td>1.650699</td>\n",
       "      <td>3</td>\n",
       "      <td>True</td>\n",
       "      <td>11.160081</td>\n",
       "    </tr>\n",
       "    <tr>\n",
       "      <th>4998</th>\n",
       "      <td>2.112047</td>\n",
       "      <td>1.0</td>\n",
       "      <td>0.294303</td>\n",
       "      <td>-1.373357</td>\n",
       "      <td>-2.049375</td>\n",
       "      <td>-0.736836</td>\n",
       "      <td>0.721980</td>\n",
       "      <td>0</td>\n",
       "      <td>True</td>\n",
       "      <td>-3.692410</td>\n",
       "    </tr>\n",
       "    <tr>\n",
       "      <th>4999</th>\n",
       "      <td>0.258468</td>\n",
       "      <td>1.0</td>\n",
       "      <td>0.534897</td>\n",
       "      <td>-1.096839</td>\n",
       "      <td>-2.354391</td>\n",
       "      <td>-1.448378</td>\n",
       "      <td>0.880225</td>\n",
       "      <td>2</td>\n",
       "      <td>True</td>\n",
       "      <td>3.299226</td>\n",
       "    </tr>\n",
       "  </tbody>\n",
       "</table>\n",
       "<p>5000 rows × 10 columns</p>\n",
       "</div>"
      ],
      "text/plain": [
       "            X0   Z0        Z1        W0        W1        W2        W3 W4  \\\n",
       "0    -0.519530  0.0  0.680476 -0.282105 -0.362194  0.140558  1.668053  0   \n",
       "1     2.133431  1.0  0.813440  0.028942 -1.163175  2.036444 -1.543393  2   \n",
       "2     0.062473  1.0  0.638135 -1.095388 -0.028825 -0.600449 -1.542834  2   \n",
       "3     0.087544  1.0  0.573439  0.639267 -0.519385  1.745542 -0.164489  0   \n",
       "4    -0.501427  1.0  0.045879 -1.154260  1.476705 -0.552128  1.458037  0   \n",
       "...        ...  ...       ...       ...       ...       ...       ... ..   \n",
       "4995  2.085457  1.0  0.974260 -0.022156  0.251530  1.155301  0.590796  1   \n",
       "4996  1.096449  1.0  0.610415 -2.200706  1.800359 -0.349106  1.308025  3   \n",
       "4997 -0.686926  1.0  0.471778 -0.459015 -2.853532  0.161828  1.650699  3   \n",
       "4998  2.112047  1.0  0.294303 -1.373357 -2.049375 -0.736836  0.721980  0   \n",
       "4999  0.258468  1.0  0.534897 -1.096839 -2.354391 -1.448378  0.880225  2   \n",
       "\n",
       "         v0          y  \n",
       "0      True  11.127637  \n",
       "1      True  13.112598  \n",
       "2      True  10.023014  \n",
       "3      True  11.669888  \n",
       "4     False   6.008089  \n",
       "...     ...        ...  \n",
       "4995   True  19.846164  \n",
       "4996   True  27.661943  \n",
       "4997   True  11.160081  \n",
       "4998   True  -3.692410  \n",
       "4999   True   3.299226  \n",
       "\n",
       "[5000 rows x 10 columns]"
      ]
     },
     "execution_count": 8,
     "metadata": {},
     "output_type": "execute_result"
    }
   ],
   "source": [
    "df"
   ]
  },
  {
   "cell_type": "code",
   "execution_count": 9,
   "id": "1052b215",
   "metadata": {},
   "outputs": [
    {
     "data": {
      "image/png": "[encoded data removed]",
      "text/plain": [
       "<Figure size 576x432 with 1 Axes>"
      ]
     },
     "metadata": {},
     "output_type": "display_data"
    }
   ],
   "source": [
    "model.view_model()"
   ]
  },
  {
   "cell_type": "code",
   "execution_count": 10,
   "id": "8fc9b0c2",
   "metadata": {},
   "outputs": [
    {
     "name": "stdout",
     "output_type": "stream",
     "text": [
      "Estimand type: EstimandType.NONPARAMETRIC_ATE\n",
      "\n",
      "### Estimand : 1\n",
      "Estimand name: backdoor\n",
      "Estimand expression:\n",
      "  d                       \n",
      "─────(E[y|W1,W0,W3,W4,W2])\n",
      "d[v₀]                     \n",
      "Estimand assumption 1, Unconfoundedness: If U→{v0} and U→y then P(y|v0,W1,W0,W3,W4,W2,U) = P(y|v0,W1,W0,W3,W4,W2)\n",
      "\n",
      "### Estimand : 2\n",
      "Estimand name: iv\n",
      "Estimand expression:\n",
      " ⎡                              -1⎤\n",
      " ⎢    d        ⎛    d          ⎞  ⎥\n",
      "E⎢─────────(y)⋅⎜─────────([v₀])⎟  ⎥\n",
      " ⎣d[Z₁  Z₀]    ⎝d[Z₁  Z₀]      ⎠  ⎦\n",
      "Estimand assumption 1, As-if-random: If U→→y then ¬(U →→{Z1,Z0})\n",
      "Estimand assumption 2, Exclusion: If we remove {Z1,Z0}→{v0}, then ¬({Z1,Z0}→y)\n",
      "\n",
      "### Estimand : 3\n",
      "Estimand name: frontdoor\n",
      "No such variable(s) found!\n",
      "\n"
     ]
    }
   ],
   "source": [
    "identified_estimand=model.identify_effect()\n",
    "print(identified_estimand)"
   ]
  },
  {
   "cell_type": "markdown",
   "id": "d43db9d8",
   "metadata": {},
   "source": [
    "## Good!\n",
    "### So now, we have 2 estimands. Which one do we use?\n",
    "\n",
    "- https://www.pywhy.org/dowhy/v0.11.1/example_notebooks/dowhy_simple_example.html"
   ]
  },
  {
   "cell_type": "code",
   "execution_count": 11,
   "id": "a27bfecf",
   "metadata": {},
   "outputs": [
    {
     "name": "stdout",
     "output_type": "stream",
     "text": [
      "*** Causal Estimate ***\n",
      "\n",
      "## Identified estimand\n",
      "Estimand type: EstimandType.NONPARAMETRIC_ATE\n",
      "\n",
      "### Estimand : 1\n",
      "Estimand name: backdoor\n",
      "Estimand expression:\n",
      "  d                       \n",
      "─────(E[y|W1,W0,W3,W4,W2])\n",
      "d[v₀]                     \n",
      "Estimand assumption 1, Unconfoundedness: If U→{v0} and U→y then P(y|v0,W1,W0,W3,W4,W2,U) = P(y|v0,W1,W0,W3,W4,W2)\n",
      "\n",
      "## Realized estimand\n",
      "b: y~v0+W1+W0+W3+W4+W2+v0*X0\n",
      "Target units: \n",
      "\n",
      "## Estimate\n",
      "Mean value: 10.52910579582622\n",
      "### Conditional Estimates\n",
      "__categorical__X0\n",
      "(-2.812, 0.0928]     9.736442\n",
      "(0.0928, 0.677]     10.232093\n",
      "(0.677, 1.182]      10.533106\n",
      "(1.182, 1.736]      10.827441\n",
      "(1.736, 4.488]      11.316447\n",
      "dtype: float64\n"
     ]
    }
   ],
   "source": [
    "causal_estimate = model.estimate_effect(identified_estimand,\n",
    "        method_name=\"backdoor.linear_regression\")\n",
    "print(causal_estimate)"
   ]
  },
  {
   "cell_type": "markdown",
   "id": "fd0a48a5",
   "metadata": {},
   "source": [
    "## From chatgpt\n",
    "\n",
    "```\n",
    "Realized Estimand:\n",
    "\n",
    "This section provides details about how the causal effect identified above is realized or estimated.\n",
    "b: y~v0+W0+W3+W4+W2+W1+v0*X0 - This line represents the regression formula used to estimate the causal effect. It indicates that the outcome variable y is regressed on v₀, W0, W3, W4, W2, W1, and an interaction term between v₀ and X0.\n",
    "Target units: Not specified in this output.\n",
    "Estimate:\n",
    "\n",
    "Mean value: 12.456208795951651 - This is the estimated average treatment effect (ATE). It suggests that, on average, the expected change in y due to a one-unit change in v₀ is approximately 12.456.\n",
    "Conditional Estimates: This section provides estimates of the causal effect for different levels of the variable X0.\n",
    "For each category of X0, it provides the estimated causal effect of v₀ on y. For example, for the category (-3.291, -0.336] of X0, the estimated causal effect is 5.597391.\n",
    "```\n"
   ]
  },
  {
   "cell_type": "markdown",
   "id": "773117aa",
   "metadata": {},
   "source": [
    "### Check this\n",
    "Realized estimand\n",
    "b: y~v0+W0+W1+W3+W4+W2+v0*X0\n",
    "Target units: \n",
    "\n",
    "Wherefrom does the interaction term v0*X0 appear!\n"
   ]
  },
  {
   "cell_type": "code",
   "execution_count": 12,
   "id": "53465bad",
   "metadata": {},
   "outputs": [
    {
     "name": "stdout",
     "output_type": "stream",
     "text": [
      "10.000757375873693\n",
      "#####################\n",
      "Regression Coeff: \n",
      " Intercept        -0.000234\n",
      "v0[T.True]       10.000757\n",
      "W4[T.1]           4.516857\n",
      "W4[T.2]           9.033266\n",
      "W4[T.3]          13.550330\n",
      "W0                3.889232\n",
      "W1                5.100216\n",
      "W3                2.511584\n",
      "W2                1.254337\n",
      "X0                0.000333\n",
      "v0[T.True]:X0     0.570766\n",
      "dtype: float64\n",
      "#####################\n",
      "p Value:  0.0\n",
      "95% Confidence Interval:  [ 9.99906977 10.00244499]\n"
     ]
    }
   ],
   "source": [
    "reg_model=smf.ols(formula='y~v0+W0+W1+W3+W4+W2+v0*X0', data=df)\n",
    "ols_op = reg_model.fit()\n",
    "\n",
    "print(ols_op.params['v0[T.True]'])\n",
    "print(\"#####################\")\n",
    "print(\"Regression Coeff: \\n\", ols_op.params)\n",
    "print(\"#####################\")\n",
    "\n",
    "print(\"p Value: \", ols_op.pvalues.loc['v0[T.True]'])\n",
    "print(\"95% Confidence Interval: \", ols_op.conf_int(alpha = 0.05).loc['v0[T.True]'].values)"
   ]
  },
  {
   "cell_type": "code",
   "execution_count": 13,
   "id": "6202b477",
   "metadata": {},
   "outputs": [
    {
     "name": "stdout",
     "output_type": "stream",
     "text": [
      "\n",
      " For method =  backdoor.propensity_score_matching\n",
      "*** Causal Estimate ***\n",
      "\n",
      "## Identified estimand\n",
      "Estimand type: EstimandType.NONPARAMETRIC_ATE\n",
      "\n",
      "### Estimand : 1\n",
      "Estimand name: backdoor\n",
      "Estimand expression:\n",
      "  d                       \n",
      "─────(E[y|W1,W0,W3,W4,W2])\n",
      "d[v₀]                     \n",
      "Estimand assumption 1, Unconfoundedness: If U→{v0} and U→y then P(y|v0,W1,W0,W3,W4,W2,U) = P(y|v0,W1,W0,W3,W4,W2)\n",
      "\n",
      "## Realized estimand\n",
      "b: y~v0+W1+W0+W3+W4+W2\n",
      "Target units: ate\n",
      "\n",
      "## Estimate\n",
      "Mean value: 11.395475789554071\n",
      "\n",
      "\n",
      " For method =  backdoor.propensity_score_stratification\n",
      "*** Causal Estimate ***\n",
      "\n",
      "## Identified estimand\n",
      "Estimand type: EstimandType.NONPARAMETRIC_ATE\n",
      "\n",
      "### Estimand : 1\n",
      "Estimand name: backdoor\n",
      "Estimand expression:\n",
      "  d                       \n",
      "─────(E[y|W1,W0,W3,W4,W2])\n",
      "d[v₀]                     \n",
      "Estimand assumption 1, Unconfoundedness: If U→{v0} and U→y then P(y|v0,W1,W0,W3,W4,W2,U) = P(y|v0,W1,W0,W3,W4,W2)\n",
      "\n",
      "## Realized estimand\n",
      "b: y~v0+W1+W0+W3+W4+W2\n",
      "Target units: ate\n",
      "\n",
      "## Estimate\n",
      "Mean value: 10.906419562931099\n",
      "\n",
      "\n",
      " For method =  backdoor.propensity_score_weighting\n",
      "*** Causal Estimate ***\n",
      "\n",
      "## Identified estimand\n",
      "Estimand type: EstimandType.NONPARAMETRIC_ATE\n",
      "\n",
      "### Estimand : 1\n",
      "Estimand name: backdoor\n",
      "Estimand expression:\n",
      "  d                       \n",
      "─────(E[y|W1,W0,W3,W4,W2])\n",
      "d[v₀]                     \n",
      "Estimand assumption 1, Unconfoundedness: If U→{v0} and U→y then P(y|v0,W1,W0,W3,W4,W2,U) = P(y|v0,W1,W0,W3,W4,W2)\n",
      "\n",
      "## Realized estimand\n",
      "b: y~v0+W1+W0+W3+W4+W2\n",
      "Target units: ate\n",
      "\n",
      "## Estimate\n",
      "Mean value: 15.369354218316444\n",
      "\n",
      "\n",
      " For method =  backdoor.linear_regression\n",
      "*** Causal Estimate ***\n",
      "\n",
      "## Identified estimand\n",
      "Estimand type: EstimandType.NONPARAMETRIC_ATE\n",
      "\n",
      "### Estimand : 1\n",
      "Estimand name: backdoor\n",
      "Estimand expression:\n",
      "  d                       \n",
      "─────(E[y|W1,W0,W3,W4,W2])\n",
      "d[v₀]                     \n",
      "Estimand assumption 1, Unconfoundedness: If U→{v0} and U→y then P(y|v0,W1,W0,W3,W4,W2,U) = P(y|v0,W1,W0,W3,W4,W2)\n",
      "\n",
      "## Realized estimand\n",
      "b: y~v0+W1+W0+W3+W4+W2+v0*X0\n",
      "Target units: \n",
      "\n",
      "## Estimate\n",
      "Mean value: 10.52910579582622\n",
      "### Conditional Estimates\n",
      "__categorical__X0\n",
      "(-2.812, 0.0928]     9.736442\n",
      "(0.0928, 0.677]     10.232093\n",
      "(0.677, 1.182]      10.533106\n",
      "(1.182, 1.736]      10.827441\n",
      "(1.736, 4.488]      11.316447\n",
      "dtype: float64\n",
      "\n",
      " For method =  backdoor.generalized_linear_model\n",
      "Unexpected err=ValueError(\"Need to specify the family for the generalized linear model. Provide a 'glm_family' parameter in method_params, such as statsmodels.api.families.Binomial() for logistic regression.\"), type(err)=<class 'ValueError'>\n",
      "\n",
      " For method =  iv.instrumental_variable\n",
      "*** Causal Estimate ***\n",
      "\n",
      "## Identified estimand\n",
      "Estimand type: EstimandType.NONPARAMETRIC_ATE\n",
      "\n",
      "### Estimand : 1\n",
      "Estimand name: iv\n",
      "Estimand expression:\n",
      " ⎡                              -1⎤\n",
      " ⎢    d        ⎛    d          ⎞  ⎥\n",
      "E⎢─────────(y)⋅⎜─────────([v₀])⎟  ⎥\n",
      " ⎣d[Z₁  Z₀]    ⎝d[Z₁  Z₀]      ⎠  ⎦\n",
      "Estimand assumption 1, As-if-random: If U→→y then ¬(U →→{Z1,Z0})\n",
      "Estimand assumption 2, Exclusion: If we remove {Z1,Z0}→{v0}, then ¬({Z1,Z0}→y)\n",
      "\n",
      "## Realized estimand\n",
      "Realized estimand: Wald Estimator\n",
      "Realized estimand type: EstimandType.NONPARAMETRIC_ATE\n",
      "Estimand expression:\n",
      " ⎡  d      ⎤  -1⎡  d       ⎤\n",
      "E⎢──────(y)⎥⋅E  ⎢──────(v₀)⎥\n",
      " ⎣dZ1,Z0   ⎦    ⎣dZ1,Z0    ⎦\n",
      "Estimand assumption 1, As-if-random: If U→→y then ¬(U →→{Z1,Z0})\n",
      "Estimand assumption 2, Exclusion: If we remove {Z1,Z0}→{v0}, then ¬({Z1,Z0}→y)\n",
      "Estimand assumption 3, treatment_effect_homogeneity: Each unit's treatment ['v0'] is affected in the same way by common causes of ['v0'] and ['y']\n",
      "Estimand assumption 4, outcome_effect_homogeneity: Each unit's outcome ['y'] is affected in the same way by common causes of ['v0'] and ['y']\n",
      "\n",
      "Target units: ate\n",
      "\n",
      "## Estimate\n",
      "Mean value: 16.345234390398055\n",
      "\n",
      "\n",
      " For method =  iv.regression_discontinuity\n",
      "Unexpected err=KeyError(None), type(err)=<class 'KeyError'>\n",
      "\n",
      " For method =  frontdoor.two_stage_regression\n",
      "Estimation failed! No relevant identified estimand available for this estimation method.\n"
     ]
    }
   ],
   "source": [
    "# or better still\n",
    "# Since Identification shows a IV, Confounder/Backdoor - as can be seen from inspection of the DAG as well,\n",
    "# we should also use another method to estimate the ATE.\n",
    "\n",
    "# Let us try all the methods for estimating effect\n",
    "\n",
    "for m in [\"backdoor.propensity_score_matching\",\n",
    "            \"backdoor.propensity_score_stratification\",\n",
    "            \"backdoor.propensity_score_weighting\",\n",
    "            \"backdoor.linear_regression\",\n",
    "            \"backdoor.generalized_linear_model\",\n",
    "            \"iv.instrumental_variable\",\n",
    "            \"iv.regression_discontinuity\",\n",
    "            \"frontdoor.two_stage_regression\"\n",
    "            ] :\n",
    "    try:\n",
    "        print(\"\\n For method = \",m)\n",
    "        causal_estimate = model.estimate_effect(identified_estimand,\n",
    "                method_name=m)\n",
    "        print(causal_estimate)\n",
    "    except Exception as err:\n",
    "        print(f\"Unexpected {err=}, {type(err)=}\")"
   ]
  },
  {
   "cell_type": "code",
   "execution_count": null,
   "id": "ba812e39",
   "metadata": {},
   "outputs": [],
   "source": []
  }
 ],
 "metadata": {
  "celltoolbar": "Slideshow",
  "kernelspec": {
   "display_name": "Python 3 (ipykernel)",
   "language": "python",
   "name": "python3"
  },
  "language_info": {
   "codemirror_mode": {
    "name": "ipython",
    "version": 3
   },
   "file_extension": ".py",
   "mimetype": "text/x-python",
   "name": "python",
   "nbconvert_exporter": "python",
   "pygments_lexer": "ipython3",
   "version": "3.9.12"
  }
 },
 "nbformat": 4,
 "nbformat_minor": 5
}
